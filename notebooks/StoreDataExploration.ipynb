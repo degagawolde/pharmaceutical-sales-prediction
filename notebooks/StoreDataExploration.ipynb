{
 "cells": [
  {
   "cell_type": "markdown",
   "metadata": {},
   "source": [
    "# Explarotary Analysis for Store Data\n",
    "\n",
    "- Handling for missing entries\n",
    "- Data types and formats that should be chaged\n",
    "- Univariate analysis of the feature\n",
    "- Bivariate anlaysis of the feature"
   ]
  },
  {
   "cell_type": "markdown",
   "metadata": {},
   "source": [
    "# Import Packages "
   ]
  },
  {
   "cell_type": "code",
   "execution_count": 1,
   "metadata": {},
   "outputs": [],
   "source": [
    "import imp\n",
    "import os,sys\n",
    "import matplotlib.pyplot as plt\n",
    "import seaborn as sns\n",
    "\n",
    "#import custome modules\n",
    "sys.path.append('../')\n",
    "from scripts.data_fetch import DataLoader\n"
   ]
  },
  {
   "cell_type": "markdown",
   "metadata": {},
   "source": [
    "# Etract Store Data"
   ]
  },
  {
   "cell_type": "code",
   "execution_count": null,
   "metadata": {},
   "outputs": [],
   "source": []
  },
  {
   "cell_type": "code",
   "execution_count": 6,
   "metadata": {},
   "outputs": [
    {
     "ename": "NoRemoteError",
     "evalue": "config file error: no remote specified. Create a default remote with\n    dvc remote add -d <remote name> <remote url>",
     "output_type": "error",
     "traceback": [
      "\u001b[0;31m---------------------------------------------------------------------------\u001b[0m",
      "\u001b[0;31mNoRemoteError\u001b[0m                             Traceback (most recent call last)",
      "\u001b[1;32m/Users/user/TENAC/week-1-4/Week-3/pharmaceutical-sales-prediction/notebooks/StoreDataExploration.ipynb Cell 6\u001b[0m in \u001b[0;36m<cell line: 6>\u001b[0;34m()\u001b[0m\n\u001b[1;32m      <a href='vscode-notebook-cell:/Users/user/TENAC/week-1-4/Week-3/pharmaceutical-sales-prediction/notebooks/StoreDataExploration.ipynb#W4sZmlsZQ%3D%3D?line=2'>3</a>\u001b[0m repo \u001b[39m=\u001b[39m \u001b[39m'\u001b[39m\u001b[39m./\u001b[39m\u001b[39m'\u001b[39m\n\u001b[1;32m      <a href='vscode-notebook-cell:/Users/user/TENAC/week-1-4/Week-3/pharmaceutical-sales-prediction/notebooks/StoreDataExploration.ipynb#W4sZmlsZQ%3D%3D?line=4'>5</a>\u001b[0m \u001b[39mimport\u001b[39;00m \u001b[39mdvc\u001b[39;00m\u001b[39m.\u001b[39;00m\u001b[39mapi\u001b[39;00m\n\u001b[0;32m----> <a href='vscode-notebook-cell:/Users/user/TENAC/week-1-4/Week-3/pharmaceutical-sales-prediction/notebooks/StoreDataExploration.ipynb#W4sZmlsZQ%3D%3D?line=5'>6</a>\u001b[0m url \u001b[39m=\u001b[39m dvc\u001b[39m.\u001b[39;49mapi\u001b[39m.\u001b[39;49mget_url(path\u001b[39m=\u001b[39;49mdata_path,\n\u001b[1;32m      <a href='vscode-notebook-cell:/Users/user/TENAC/week-1-4/Week-3/pharmaceutical-sales-prediction/notebooks/StoreDataExploration.ipynb#W4sZmlsZQ%3D%3D?line=6'>7</a>\u001b[0m                  repo\u001b[39m=\u001b[39;49mrepo,\n\u001b[1;32m      <a href='vscode-notebook-cell:/Users/user/TENAC/week-1-4/Week-3/pharmaceutical-sales-prediction/notebooks/StoreDataExploration.ipynb#W4sZmlsZQ%3D%3D?line=7'>8</a>\u001b[0m                  rev\u001b[39m=\u001b[39;49mversion)\n\u001b[1;32m     <a href='vscode-notebook-cell:/Users/user/TENAC/week-1-4/Week-3/pharmaceutical-sales-prediction/notebooks/StoreDataExploration.ipynb#W4sZmlsZQ%3D%3D?line=9'>10</a>\u001b[0m \u001b[39mprint\u001b[39m(url)\n",
      "File \u001b[0;32m~/miniforge3/envs/10A/lib/python3.10/site-packages/dvc/api/data.py:33\u001b[0m, in \u001b[0;36mget_url\u001b[0;34m(path, repo, rev, remote)\u001b[0m\n\u001b[1;32m     30\u001b[0m dvc_repo \u001b[39m=\u001b[39m info[\u001b[39m\"\u001b[39m\u001b[39mrepo\u001b[39m\u001b[39m\"\u001b[39m]\n\u001b[1;32m     31\u001b[0m md5 \u001b[39m=\u001b[39m dvc_info[\u001b[39m\"\u001b[39m\u001b[39mmd5\u001b[39m\u001b[39m\"\u001b[39m]\n\u001b[0;32m---> 33\u001b[0m \u001b[39mreturn\u001b[39;00m dvc_repo\u001b[39m.\u001b[39;49mcloud\u001b[39m.\u001b[39;49mget_url_for(remote, checksum\u001b[39m=\u001b[39;49mmd5)\n",
      "File \u001b[0;32m~/miniforge3/envs/10A/lib/python3.10/site-packages/dvc/data_cloud.py:182\u001b[0m, in \u001b[0;36mDataCloud.get_url_for\u001b[0;34m(self, remote, checksum)\u001b[0m\n\u001b[1;32m    181\u001b[0m \u001b[39mdef\u001b[39;00m \u001b[39mget_url_for\u001b[39m(\u001b[39mself\u001b[39m, remote, checksum):\n\u001b[0;32m--> 182\u001b[0m     odb \u001b[39m=\u001b[39m \u001b[39mself\u001b[39;49m\u001b[39m.\u001b[39;49mget_remote_odb(remote)\n\u001b[1;32m    183\u001b[0m     path \u001b[39m=\u001b[39m odb\u001b[39m.\u001b[39moid_to_path(checksum)\n\u001b[1;32m    184\u001b[0m     \u001b[39mreturn\u001b[39;00m odb\u001b[39m.\u001b[39mfs\u001b[39m.\u001b[39munstrip_protocol(path)\n",
      "File \u001b[0;32m~/miniforge3/envs/10A/lib/python3.10/site-packages/dvc/data_cloud.py:56\u001b[0m, in \u001b[0;36mDataCloud.get_remote_odb\u001b[0;34m(self, name, command)\u001b[0m\n\u001b[1;32m     50\u001b[0m \u001b[39melse\u001b[39;00m:\n\u001b[1;32m     51\u001b[0m     error_msg \u001b[39m=\u001b[39m (\n\u001b[1;32m     52\u001b[0m         \u001b[39m\"\u001b[39m\u001b[39mno remote specified. Create a default remote with\u001b[39m\u001b[39m\\n\u001b[39;00m\u001b[39m\"\u001b[39m\n\u001b[1;32m     53\u001b[0m         \u001b[39m\"\u001b[39m\u001b[39m    dvc remote add -d <remote name> <remote url>\u001b[39m\u001b[39m\"\u001b[39m\n\u001b[1;32m     54\u001b[0m     )\n\u001b[0;32m---> 56\u001b[0m \u001b[39mraise\u001b[39;00m NoRemoteError(error_msg)\n",
      "\u001b[0;31mNoRemoteError\u001b[0m: config file error: no remote specified. Create a default remote with\n    dvc remote add -d <remote name> <remote url>"
     ]
    }
   ],
   "source": [
    "data_path = 'data/raw/store.csv'\n",
    "version = 'v1'\n",
    "repo = './'\n",
    "\n",
    "import dvc.api\n",
    "url = dvc.api.get_url(path=data_path,\n",
    "                 repo=repo,\n",
    "                 rev=version)\n",
    "\n",
    "print(url)\n",
    "\n",
    "# store_df = DataLoader.dvc_get_data(data_path, version, repo)\n",
    "# store_df\n"
   ]
  },
  {
   "cell_type": "code",
   "execution_count": null,
   "metadata": {},
   "outputs": [],
   "source": []
  },
  {
   "cell_type": "markdown",
   "metadata": {},
   "source": [
    "- info\n",
    "- datatype\n",
    "- missing info\n",
    "- where competition is null\n",
    "- Where CompetitionDistance is not null but CompetitionOpenSinceYear is null\n",
    "Univariate Analysis\n",
    "- Categorical columns unique count\n",
    "bivariate \n",
    "- sns boxplort\n",
    "- catplot"
   ]
  }
 ],
 "metadata": {
  "kernelspec": {
   "display_name": "Python 3.10.5 ('10A')",
   "language": "python",
   "name": "python3"
  },
  "language_info": {
   "codemirror_mode": {
    "name": "ipython",
    "version": 3
   },
   "file_extension": ".py",
   "mimetype": "text/x-python",
   "name": "python",
   "nbconvert_exporter": "python",
   "pygments_lexer": "ipython3",
   "version": "3.10.5"
  },
  "orig_nbformat": 4,
  "vscode": {
   "interpreter": {
    "hash": "2be9f4616ca1b5198a62cd2082c7feed2682666a7b8fb219311f5849134be0bf"
   }
  }
 },
 "nbformat": 4,
 "nbformat_minor": 2
}
